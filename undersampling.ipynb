{
 "cells": [
  {
   "cell_type": "code",
   "execution_count": 8,
   "id": "13ace0d5-1995-4620-9fe0-f6b7c7183edd",
   "metadata": {},
   "outputs": [],
   "source": [
    "import xarray as xr\n",
    "import numpy as np\n",
    "import pandas as pd\n",
    "\n",
    "import seaborn as sns\n",
    "import matplotlib.pyplot as plt\n",
    "\n",
    "from sklearn.preprocessing import StandardScaler\n",
    "from sklearn.model_selection import train_test_split, cross_validate\n",
    "from sklearn.metrics import classification_report\n",
    "from sklearn.linear_model import SGDClassifier\n",
    "from sklearn import svm\n",
    "\n",
    "from sklearn.pipeline import make_pipeline\n",
    "from sklearn.decomposition import PCA\n",
    "from imblearn import pipeline\n",
    "import xgboost as xgb\n",
    "\n",
    "from imblearn.under_sampling import RandomUnderSampler\n",
    "\n",
    "from tqdm.notebook import tqdm\n",
    "\n",
    "sns.set_theme('notebook')"
   ]
  },
  {
   "cell_type": "code",
   "execution_count": 2,
   "id": "93ba8d30-c761-415b-b41f-2c7bf1e47298",
   "metadata": {},
   "outputs": [],
   "source": [
    "data = pd.read_csv(\"data/csv_w_labels.csv\")\n",
    "labels = data.pop(\"mhw_label\")\n",
    "data = data.fillna(-1)"
   ]
  },
  {
   "cell_type": "code",
   "execution_count": 3,
   "id": "aa619214-b5d6-4d9e-9c1c-f03b548aca46",
   "metadata": {},
   "outputs": [],
   "source": [
    "X_train, X_test, y_train, y_test = \\\n",
    "    train_test_split(data, labels, test_size=0.3, shuffle=True, stratify=labels, random_state=1)"
   ]
  },
  {
   "cell_type": "code",
   "execution_count": 4,
   "id": "66dc6e7b-472a-4992-901b-c2a1a4371cc3",
   "metadata": {},
   "outputs": [
    {
     "data": {
      "text/plain": [
       "(12225276, 12225276)"
      ]
     },
     "execution_count": 4,
     "metadata": {},
     "output_type": "execute_result"
    }
   ],
   "source": [
    "len(X_train), len(y_train)"
   ]
  },
  {
   "cell_type": "code",
   "execution_count": 5,
   "id": "985048a7-0cbe-4f17-8f1b-89a75691bf98",
   "metadata": {},
   "outputs": [
    {
     "name": "stderr",
     "output_type": "stream",
     "text": [
      "[Parallel(n_jobs=8)]: Using backend LokyBackend with 8 concurrent workers.\n",
      "[Parallel(n_jobs=8)]: Done   2 out of   5 | elapsed:  1.2min remaining:  1.8min\n",
      "[Parallel(n_jobs=8)]: Done   3 out of   5 | elapsed:  1.2min remaining:   48.0s\n",
      "[Parallel(n_jobs=8)]: Done   5 out of   5 | elapsed:  1.2min remaining:    0.0s\n",
      "[Parallel(n_jobs=8)]: Done   5 out of   5 | elapsed:  1.2min finished\n"
     ]
    }
   ],
   "source": [
    "# set up model pipeline and cross validate.\n",
    "scoring = ['accuracy', 'precision', 'recall']\n",
    "\n",
    "pipe = pipeline.Pipeline(\n",
    "    [('pca', PCA(n_components=5)),\n",
    "     ('scale', StandardScaler()),\n",
    "     ('sample', RandomUnderSampler(random_state=1)),   # tried other strategies, but performed poorly or took too long. \n",
    "     ('clf', SGDClassifier(loss='hinge'))], #hinge- linear svm, log - log regression\n",
    "    verbose=True\n",
    ")\n",
    "\n",
    "results = cross_validate(pipe, X_train, y_train, \n",
    "                         scoring=scoring, verbose=10, \n",
    "                         n_jobs=8, return_estimator=True)"
   ]
  },
  {
   "cell_type": "code",
   "execution_count": 6,
   "id": "8cabb4b4-89d7-4a7e-83b1-6e93083e6fd3",
   "metadata": {},
   "outputs": [
    {
     "data": {
      "text/plain": [
       "{'fit_time': array([64.01957417, 64.8337338 , 64.91606331, 64.6774509 , 64.78137851]),\n",
       " 'score_time': array([3.63818169, 3.70700312, 3.71199822, 3.67741299, 3.66196465]),\n",
       " 'estimator': [Pipeline(steps=[('pca', PCA(n_components=5)), ('scale', StandardScaler()),\n",
       "                  ('sample', RandomUnderSampler(random_state=1)),\n",
       "                  ('clf', SGDClassifier())],\n",
       "           verbose=True),\n",
       "  Pipeline(steps=[('pca', PCA(n_components=5)), ('scale', StandardScaler()),\n",
       "                  ('sample', RandomUnderSampler(random_state=1)),\n",
       "                  ('clf', SGDClassifier())],\n",
       "           verbose=True),\n",
       "  Pipeline(steps=[('pca', PCA(n_components=5)), ('scale', StandardScaler()),\n",
       "                  ('sample', RandomUnderSampler(random_state=1)),\n",
       "                  ('clf', SGDClassifier())],\n",
       "           verbose=True),\n",
       "  Pipeline(steps=[('pca', PCA(n_components=5)), ('scale', StandardScaler()),\n",
       "                  ('sample', RandomUnderSampler(random_state=1)),\n",
       "                  ('clf', SGDClassifier())],\n",
       "           verbose=True),\n",
       "  Pipeline(steps=[('pca', PCA(n_components=5)), ('scale', StandardScaler()),\n",
       "                  ('sample', RandomUnderSampler(random_state=1)),\n",
       "                  ('clf', SGDClassifier())],\n",
       "           verbose=True)],\n",
       " 'test_accuracy': array([0.50466656, 0.50849326, 0.52880978, 0.51190464, 0.505169  ]),\n",
       " 'test_precision': array([0.10093529, 0.1013494 , 0.10292732, 0.10124593, 0.10121701]),\n",
       " 'test_recall': array([0.6181332 , 0.61553532, 0.59630334, 0.60959946, 0.61953816])}"
      ]
     },
     "execution_count": 6,
     "metadata": {},
     "output_type": "execute_result"
    }
   ],
   "source": [
    "results"
   ]
  },
  {
   "cell_type": "code",
   "execution_count": 7,
   "id": "bf935568-e31e-49c2-89bf-208cbccee601",
   "metadata": {},
   "outputs": [
    {
     "name": "stdout",
     "output_type": "stream",
     "text": [
      "              precision    recall  f1-score   support\n",
      "\n",
      "         0.0       0.93      0.50      0.65   4798619\n",
      "         1.0       0.10      0.62      0.17    440785\n",
      "\n",
      "    accuracy                           0.51   5239404\n",
      "   macro avg       0.52      0.56      0.41   5239404\n",
      "weighted avg       0.86      0.51      0.61   5239404\n",
      "\n"
     ]
    }
   ],
   "source": [
    "best_model = results[\"estimator\"][np.argmax(results[\"test_recall\"])]\n",
    "y_pred = best_model.predict(X_test)\n",
    "\n",
    "print(classification_report(y_test, y_pred))"
   ]
  },
  {
   "cell_type": "code",
   "execution_count": 8,
   "id": "360dc261-815c-44c1-a07c-c99f8e5c5094",
   "metadata": {},
   "outputs": [
    {
     "name": "stderr",
     "output_type": "stream",
     "text": [
      "[Parallel(n_jobs=8)]: Using backend LokyBackend with 8 concurrent workers.\n",
      "[Parallel(n_jobs=8)]: Done   2 out of   5 | elapsed:   29.5s remaining:   44.3s\n",
      "[Parallel(n_jobs=8)]: Done   3 out of   5 | elapsed:   30.2s remaining:   20.1s\n",
      "[Parallel(n_jobs=8)]: Done   5 out of   5 | elapsed:   30.3s remaining:    0.0s\n",
      "[Parallel(n_jobs=8)]: Done   5 out of   5 | elapsed:   30.3s finished\n"
     ]
    }
   ],
   "source": [
    "\n",
    "\n",
    "xgbc = xgb.XGBClassifier(n_estimators=10, use_label_encoder=False)\n",
    "\n",
    "pipe = pipeline.Pipeline(\n",
    "    [('sample', RandomUnderSampler(random_state=1)),   # tried other strategies, but performed poorly or took too long. \n",
    "     ('clf', xgbc)], \n",
    "    verbose=True\n",
    ")\n",
    "\n",
    "results = cross_validate(pipe, X_train, y_train, \n",
    "                         scoring=scoring, verbose=10, \n",
    "                         n_jobs=8, return_estimator=True)"
   ]
  },
  {
   "cell_type": "code",
   "execution_count": 9,
   "id": "3b1cc790-b299-4226-9457-1c754a5a9c68",
   "metadata": {},
   "outputs": [
    {
     "name": "stdout",
     "output_type": "stream",
     "text": [
      "              precision    recall  f1-score   support\n",
      "\n",
      "         0.0       0.95      0.65      0.77   4798619\n",
      "         1.0       0.14      0.63      0.23    440785\n",
      "\n",
      "    accuracy                           0.64   5239404\n",
      "   macro avg       0.55      0.64      0.50   5239404\n",
      "weighted avg       0.88      0.64      0.72   5239404\n",
      "\n"
     ]
    }
   ],
   "source": [
    "best_model = results[\"estimator\"][np.argmax(results[\"test_recall\"])]\n",
    "y_pred = best_model.predict(X_test)\n",
    "\n",
    "print(classification_report(y_test, y_pred))"
   ]
  },
  {
   "cell_type": "code",
   "execution_count": 10,
   "id": "ee4190a4-9b8f-4fc7-b057-2c6711abf96e",
   "metadata": {},
   "outputs": [
    {
     "name": "stderr",
     "output_type": "stream",
     "text": [
      "[Parallel(n_jobs=8)]: Using backend LokyBackend with 8 concurrent workers.\n",
      "[Parallel(n_jobs=8)]: Done   2 out of   5 | elapsed:   29.3s remaining:   44.0s\n",
      "[Parallel(n_jobs=8)]: Done   3 out of   5 | elapsed:   29.4s remaining:   19.5s\n",
      "[Parallel(n_jobs=8)]: Done   5 out of   5 | elapsed:   29.7s remaining:    0.0s\n",
      "[Parallel(n_jobs=8)]: Done   5 out of   5 | elapsed:   29.7s finished\n"
     ]
    }
   ],
   "source": [
    "pos_weight = (labels == 0).sum() / (labels == 1).sum()\n",
    "\n",
    "xgbc = xgb.XGBClassifier(n_estimators=10, use_label_encoder=False, scale_pos_weight=pos_weight)\n",
    "\n",
    "pipe = pipeline.Pipeline(\n",
    "    [('sample', RandomUnderSampler(random_state=1)),   # tried other strategies, but performed poorly or took too long. \n",
    "     ('clf', xgbc)], \n",
    "    verbose=True\n",
    ")\n",
    "\n",
    "results = cross_validate(pipe, X_train, y_train, \n",
    "                         scoring=scoring, verbose=10, \n",
    "                         n_jobs=8, return_estimator=True)"
   ]
  },
  {
   "cell_type": "code",
   "execution_count": 11,
   "id": "fe17e34f-6e33-4ec4-9236-26266a4f6438",
   "metadata": {},
   "outputs": [
    {
     "name": "stdout",
     "output_type": "stream",
     "text": [
      "              precision    recall  f1-score   support\n",
      "\n",
      "         0.0       1.00      0.00      0.00   4798619\n",
      "         1.0       0.08      1.00      0.16    440785\n",
      "\n",
      "    accuracy                           0.08   5239404\n",
      "   macro avg       0.54      0.50      0.08   5239404\n",
      "weighted avg       0.92      0.08      0.01   5239404\n",
      "\n"
     ]
    }
   ],
   "source": [
    "best_model = results[\"estimator\"][np.argmax(results[\"test_recall\"])]\n",
    "y_pred = best_model.predict(X_test)\n",
    "\n",
    "print(classification_report(y_test, y_pred))"
   ]
  },
  {
   "cell_type": "code",
   "execution_count": null,
   "id": "371b0fa9-c322-4852-a02f-8f53bda3612a",
   "metadata": {},
   "outputs": [
    {
     "name": "stdout",
     "output_type": "stream",
     "text": [
      "Fitting 5 folds for each of 45 candidates, totalling 225 fits\n"
     ]
    }
   ],
   "source": [
    "from sklearn.model_selection import GridSearchCV\n",
    "\n",
    "pca = PCA()\n",
    "xgbc = xgb.XGBClassifier()\n",
    "\n",
    "pipe = pipeline.Pipeline(\n",
    "    [('pca', pca), \n",
    "     ('sample', RandomUnderSampler(random_state=1)),   # tried other strategies, but performed poorly or took too long. \n",
    "     ('clf', xgbc)], \n",
    "    verbose=True\n",
    ")\n",
    "\n",
    "param_grid = {\n",
    "    \"clf__scale_pos_weight\" : np.arange(1, 6), \n",
    "    \"pca__n_components\" : np.arange(1, len(X_test.columns) + 1, 3)\n",
    "}\n",
    "\n",
    "search = GridSearchCV(pipe, param_grid, n_jobs=4, verbose=4)\n",
    "search.fit(X_train, y_train)\n",
    "                                             "
   ]
  },
  {
   "cell_type": "code",
   "execution_count": null,
   "id": "061a47d4-a50b-4ad3-ab33-a2d90777e2dd",
   "metadata": {},
   "outputs": [],
   "source": []
  }
 ],
 "metadata": {
  "kernelspec": {
   "display_name": "Python 3 (ipykernel)",
   "language": "python",
   "name": "python3"
  },
  "language_info": {
   "codemirror_mode": {
    "name": "ipython",
    "version": 3
   },
   "file_extension": ".py",
   "mimetype": "text/x-python",
   "name": "python",
   "nbconvert_exporter": "python",
   "pygments_lexer": "ipython3",
   "version": "3.9.5"
  }
 },
 "nbformat": 4,
 "nbformat_minor": 5
}
